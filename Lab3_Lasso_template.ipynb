{
  "nbformat": 4,
  "nbformat_minor": 0,
  "metadata": {
    "colab": {
      "provenance": []
    },
    "kernelspec": {
      "name": "python3",
      "display_name": "Python 3"
    },
    "language_info": {
      "name": "python"
    }
  },
  "cells": [
    {
      "cell_type": "code",
      "source": [
        "import numpy as np\n",
        "from sklearn.datasets import fetch_california_housing\n",
        "from sklearn.linear_model import LassoCV\n",
        "from sklearn.model_selection import train_test_split\n",
        "from sklearn.preprocessing import StandardScaler\n",
        "from sklearn.metrics import mean_squared_error\n",
        "\n",
        "data = fetch_california_housing()\n",
        "feature_names = data.feature_names\n",
        "feature_names\n"
      ],
      "metadata": {
        "id": "JVUUFXqnFV2q",
        "outputId": "89b9fc2f-551c-4cc8-dd12-f797ea95cf93",
        "colab": {
          "base_uri": "https://localhost:8080/"
        }
      },
      "execution_count": 1,
      "outputs": [
        {
          "output_type": "execute_result",
          "data": {
            "text/plain": [
              "['MedInc',\n",
              " 'HouseAge',\n",
              " 'AveRooms',\n",
              " 'AveBedrms',\n",
              " 'Population',\n",
              " 'AveOccup',\n",
              " 'Latitude',\n",
              " 'Longitude']"
            ]
          },
          "metadata": {},
          "execution_count": 1
        }
      ]
    },
    {
      "cell_type": "code",
      "source": [
        "X, y = data.data, data.target\n",
        "\n",
        "# only use first 10 samples for training\n",
        "num_sample = 10\n",
        "X, y = X[:num_sample], y[:num_sample]\n",
        "\n",
        "X_train, X_test, y_train, y_test = train_test_split(\n",
        "    X, y, test_size=0.3, random_state=42\n",
        ")\n",
        "\n",
        "print('X_train.shape: ',X_train.shape)\n",
        "print('X_test.shape: ',X_test.shape)"
      ],
      "metadata": {
        "id": "eSBlBavSCwdX",
        "outputId": "0d14fbd4-bcac-4ef3-8191-95fb45e1eb9a",
        "colab": {
          "base_uri": "https://localhost:8080/"
        }
      },
      "execution_count": 2,
      "outputs": [
        {
          "output_type": "stream",
          "name": "stdout",
          "text": [
            "X_train.shape:  (7, 8)\n",
            "X_test.shape:  (3, 8)\n"
          ]
        }
      ]
    },
    {
      "cell_type": "code",
      "source": [
        "# normalize the features\n",
        "def standardize(X_train, X_test):\n",
        "    \"\"\"\n",
        "    Standardize features by removing the mean and scaling to unit variance.\n",
        "\n",
        "    The standard score of a sample x is calculated as:\n",
        "        z = (x - mean) / std\n",
        "\n",
        "    where mean and std are computed from the training set.\n",
        "\n",
        "    Args:\n",
        "        X_train: Training data of shape (n_samples, n_features)\n",
        "        X_test: Test data of shape (m_samples, n_features)\n",
        "\n",
        "    Returns:\n",
        "        X_train_standardized: Standardized training data\n",
        "        X_test_standardized: Standardized test data (using training statistics)\n",
        "    \"\"\"\n",
        "    X_train = np.asarray(X_train)\n",
        "    X_test = np.asarray(X_test)\n",
        "\n",
        "    mean = np.nanmean(X_train, axis=0)\n",
        "    std = np.nanstd(X_train, axis=0, ddof=0)\n",
        "\n",
        "    # avoid divide-by-zero: leave zero-variance columns at 0 after centering\n",
        "    std_safe = std.copy()\n",
        "    std_safe[std_safe == 0] = 1.0\n",
        "\n",
        "    X_train_standardized = (X_train - mean) / std_safe\n",
        "    X_test_standardized = (X_test - mean) / std_safe\n",
        "\n",
        "    return X_train_standardized, X_test_standardized\n",
        "\n",
        "X_train, X_test = standardize(X_train, X_test)\n"
      ],
      "metadata": {
        "id": "byvJRdrLV0ib"
      },
      "execution_count": 8,
      "outputs": []
    },
    {
      "cell_type": "code",
      "source": [
        "\n",
        "alphas = np.logspace(-3, 3, 50)\n",
        "\n",
        "lasso_cv = LassoCV(alphas=alphas, cv=5, random_state=42, max_iter=10000)\n",
        "lasso_cv.fit(X_train, y_train)\n",
        "\n",
        "best_alpha = lasso_cv.alpha_\n",
        "y_pred = lasso_cv.predict(X_test)\n",
        "test_mse = mean_squared_error(y_test, y_pred)\n",
        "n_surviving_features = np.sum(lasso_cv.coef_ != 0)\n",
        "\n",
        "print(f\"Best α: {best_alpha:.6f}\")\n",
        "print(f\"Surviving features: {n_surviving_features}\")\n",
        "print(f\"Test MSE: {test_mse:.4f}\")\n",
        "print(\"Surviving feature names:\", [f for f, c in zip(feature_names, lasso_cv.coef_) if c != 0])\n",
        "\n",
        "# Plot regularization path and MSE analysis\n",
        "print(\"\\n\" + \"=\"*60)\n",
        "print(\"Regularization Path Analysis\")\n",
        "print(\"=\"*60)\n"
      ],
      "metadata": {
        "id": "HDmrIpKVW6ma",
        "outputId": "5633a4cd-0801-48e3-eef6-48a72fd9d456",
        "colab": {
          "base_uri": "https://localhost:8080/"
        }
      },
      "execution_count": 10,
      "outputs": [
        {
          "output_type": "stream",
          "name": "stdout",
          "text": [
            "Best α: 0.051795\n",
            "Surviving features: 4\n",
            "Test MSE: 0.3660\n",
            "Surviving feature names: ['AveBedrms', 'Population', 'AveOccup', 'Latitude']\n",
            "\n",
            "============================================================\n",
            "Regularization Path Analysis\n",
            "============================================================\n"
          ]
        }
      ]
    },
    {
      "cell_type": "code",
      "source": [
        "\n",
        "# Calculate coefficients and errors for each alpha\n",
        "coef_path = []\n",
        "train_errors = []\n",
        "for alpha in alphas:\n",
        "    lasso = Lasso(alpha=alpha, max_iter=10000)\n",
        "    lasso.fit(X_train, y_train)\n",
        "    coef_path.append(lasso.coef_)\n",
        "    y_train_pred = lasso.predict(X_train)\n",
        "    train_errors.append(mean_squared_error(y_train, y_train_pred))\n",
        "\n",
        "coef_path = np.array(coef_path)  # shape: (n_alphas, n_features)\n",
        "\n",
        "# Get cross-validation results\n",
        "# LassoCV stores the alphas it actually used\n",
        "cv_alphas = lasso_cv.alphas_\n",
        "mse_path = lasso_cv.mse_path_  # shape: (n_alphas, n_folds)\n",
        "mean_mse = np.mean(mse_path, axis=1)\n",
        "std_mse = np.std(mse_path, axis=1)\n",
        "\n"
      ],
      "metadata": {
        "id": "JxkTsJV8W91H",
        "outputId": "a98b16a8-eb24-4e71-f003-cb7bc05ec1c7",
        "colab": {
          "base_uri": "https://localhost:8080/",
          "height": 207
        }
      },
      "execution_count": 12,
      "outputs": [
        {
          "output_type": "error",
          "ename": "NameError",
          "evalue": "name 'lasso' is not defined",
          "traceback": [
            "\u001b[0;31m---------------------------------------------------------------------------\u001b[0m",
            "\u001b[0;31mNameError\u001b[0m                                 Traceback (most recent call last)",
            "\u001b[0;32m/tmp/ipython-input-2979036308.py\u001b[0m in \u001b[0;36m<cell line: 0>\u001b[0;34m()\u001b[0m\n\u001b[1;32m      3\u001b[0m \u001b[0mtrain_errors\u001b[0m \u001b[0;34m=\u001b[0m \u001b[0;34m[\u001b[0m\u001b[0;34m]\u001b[0m\u001b[0;34m\u001b[0m\u001b[0;34m\u001b[0m\u001b[0m\n\u001b[1;32m      4\u001b[0m \u001b[0;32mfor\u001b[0m \u001b[0malpha\u001b[0m \u001b[0;32min\u001b[0m \u001b[0malphas\u001b[0m\u001b[0;34m:\u001b[0m\u001b[0;34m\u001b[0m\u001b[0;34m\u001b[0m\u001b[0m\n\u001b[0;32m----> 5\u001b[0;31m     \u001b[0mlasso\u001b[0m \u001b[0;34m=\u001b[0m \u001b[0mlasso\u001b[0m\u001b[0;34m(\u001b[0m\u001b[0malpha\u001b[0m\u001b[0;34m=\u001b[0m\u001b[0malpha\u001b[0m\u001b[0;34m,\u001b[0m \u001b[0mmax_iter\u001b[0m\u001b[0;34m=\u001b[0m\u001b[0;36m10000\u001b[0m\u001b[0;34m,\u001b[0m \u001b[0mrandom_state\u001b[0m\u001b[0;34m=\u001b[0m\u001b[0;36m42\u001b[0m\u001b[0;34m)\u001b[0m\u001b[0;34m\u001b[0m\u001b[0;34m\u001b[0m\u001b[0m\n\u001b[0m\u001b[1;32m      6\u001b[0m     \u001b[0mlasso\u001b[0m\u001b[0;34m.\u001b[0m\u001b[0mfit\u001b[0m\u001b[0;34m(\u001b[0m\u001b[0mX_train\u001b[0m\u001b[0;34m,\u001b[0m \u001b[0my_train\u001b[0m\u001b[0;34m)\u001b[0m\u001b[0;34m\u001b[0m\u001b[0;34m\u001b[0m\u001b[0m\n\u001b[1;32m      7\u001b[0m     \u001b[0mcoef_path\u001b[0m\u001b[0;34m.\u001b[0m\u001b[0mappend\u001b[0m\u001b[0;34m(\u001b[0m\u001b[0mlasso\u001b[0m\u001b[0;34m.\u001b[0m\u001b[0mcoef_\u001b[0m\u001b[0;34m)\u001b[0m\u001b[0;34m\u001b[0m\u001b[0;34m\u001b[0m\u001b[0m\n",
            "\u001b[0;31mNameError\u001b[0m: name 'lasso' is not defined"
          ]
        }
      ]
    },
    {
      "cell_type": "code",
      "source": [
        "\n"
      ],
      "metadata": {
        "id": "YqearCQ9XGvC"
      },
      "execution_count": null,
      "outputs": []
    },
    {
      "cell_type": "code",
      "source": [
        "# ========== Plot 1: MSE vs Alpha ==========\n",
        "fig2, ax2 = plt.subplots(figsize=(10, 6))\n",
        "\n",
        "# Plot training error (using our alphas)\n",
        "ax2.plot(alphas, train_errors, 'b-', linewidth=2.5, label='Training MSE', alpha=0.8)\n",
        "\n",
        "# Plot validation error with confidence interval (using CV alphas)\n",
        "ax2.plot(cv_alphas, mean_mse, 'r-', linewidth=2.5, label='Validation MSE (5-Fold CV)', alpha=0.8)\n",
        "\n",
        "# Mark the best alpha - find the minimum validation MSE\n",
        "best_idx = np.argmin(mean_mse)\n",
        "best_val_mse = mean_mse[best_idx]\n",
        "ax2.axvline(x=best_alpha, color='green', linestyle='--', linewidth=2,\n",
        "            label=f'Best α = {best_alpha:.4f}')\n",
        "ax2.plot(best_alpha, best_val_mse, 'go', markersize=10,\n",
        "         label=f'Min Val MSE = {best_val_mse:.4f}', zorder=5)\n",
        "\n",
        "# Formatting\n",
        "ax2.set_xscale('log')\n",
        "ax2.set_xlabel('λ', fontsize=14, fontweight='bold')\n",
        "ax2.set_ylabel('Mean Squared Error', fontsize=12, fontweight='bold')\n",
        "ax2.set_title('MSE vs. α', fontsize=16, fontweight='bold', pad=15)\n",
        "ax2.legend(loc='best', fontsize=9, framealpha=0.9)\n",
        "ax2.grid(True, alpha=0.3, linestyle='--')\n",
        "\n",
        "plt.tight_layout()\n",
        "plt.show()\n",
        "print(f\"\\nFeature names: {feature_names}\")\n",
        "print(f\"\\nInterpretation:\")\n",
        "print(f\"- At optimal α = {best_alpha:.4f}, {n_surviving_features} features survive\")\n",
        "print(f\"- This balances model complexity and generalization performance\")\n",
        "print(f\"- Using K=5 folds for cross-validation with small dataset (n={len(X_train)})\")"
      ],
      "metadata": {
        "id": "yPqed4sMXIGQ",
        "outputId": "c9ec0b81-8031-4463-874a-438251182eec",
        "colab": {
          "base_uri": "https://localhost:8080/",
          "height": 207
        }
      },
      "execution_count": 6,
      "outputs": [
        {
          "output_type": "error",
          "ename": "NameError",
          "evalue": "name 'plt' is not defined",
          "traceback": [
            "\u001b[0;31m---------------------------------------------------------------------------\u001b[0m",
            "\u001b[0;31mNameError\u001b[0m                                 Traceback (most recent call last)",
            "\u001b[0;32m/tmp/ipython-input-1833677146.py\u001b[0m in \u001b[0;36m<cell line: 0>\u001b[0;34m()\u001b[0m\n\u001b[1;32m      1\u001b[0m \u001b[0;31m# ========== Plot 1: MSE vs Alpha ==========\u001b[0m\u001b[0;34m\u001b[0m\u001b[0;34m\u001b[0m\u001b[0m\n\u001b[0;32m----> 2\u001b[0;31m \u001b[0mfig2\u001b[0m\u001b[0;34m,\u001b[0m \u001b[0max2\u001b[0m \u001b[0;34m=\u001b[0m \u001b[0mplt\u001b[0m\u001b[0;34m.\u001b[0m\u001b[0msubplots\u001b[0m\u001b[0;34m(\u001b[0m\u001b[0mfigsize\u001b[0m\u001b[0;34m=\u001b[0m\u001b[0;34m(\u001b[0m\u001b[0;36m10\u001b[0m\u001b[0;34m,\u001b[0m \u001b[0;36m6\u001b[0m\u001b[0;34m)\u001b[0m\u001b[0;34m)\u001b[0m\u001b[0;34m\u001b[0m\u001b[0;34m\u001b[0m\u001b[0m\n\u001b[0m\u001b[1;32m      3\u001b[0m \u001b[0;34m\u001b[0m\u001b[0m\n\u001b[1;32m      4\u001b[0m \u001b[0;31m# Plot training error (using our alphas)\u001b[0m\u001b[0;34m\u001b[0m\u001b[0;34m\u001b[0m\u001b[0m\n\u001b[1;32m      5\u001b[0m \u001b[0max2\u001b[0m\u001b[0;34m.\u001b[0m\u001b[0mplot\u001b[0m\u001b[0;34m(\u001b[0m\u001b[0malphas\u001b[0m\u001b[0;34m,\u001b[0m \u001b[0mtrain_errors\u001b[0m\u001b[0;34m,\u001b[0m \u001b[0;34m'b-'\u001b[0m\u001b[0;34m,\u001b[0m \u001b[0mlinewidth\u001b[0m\u001b[0;34m=\u001b[0m\u001b[0;36m2.5\u001b[0m\u001b[0;34m,\u001b[0m \u001b[0mlabel\u001b[0m\u001b[0;34m=\u001b[0m\u001b[0;34m'Training MSE'\u001b[0m\u001b[0;34m,\u001b[0m \u001b[0malpha\u001b[0m\u001b[0;34m=\u001b[0m\u001b[0;36m0.8\u001b[0m\u001b[0;34m)\u001b[0m\u001b[0;34m\u001b[0m\u001b[0;34m\u001b[0m\u001b[0m\n",
            "\u001b[0;31mNameError\u001b[0m: name 'plt' is not defined"
          ]
        }
      ]
    },
    {
      "cell_type": "code",
      "source": [
        "# ========== Plot 2: Regularization Path ==========\n",
        "fig1, ax1 = plt.subplots(figsize=(10, 6))\n",
        "colors = plt.cm.tab10(np.linspace(0, 1, len(feature_names)))\n",
        "for i, (feature_name, color) in enumerate(zip(feature_names, colors)):\n",
        "    ax1.plot(alphas, coef_path[:, i], linewidth=2.5, label=feature_name, color=color)\n",
        "\n",
        "# Mark the best alpha with vertical line\n",
        "ax1.axvline(x=best_alpha, color='black', linestyle='--', linewidth=2,\n",
        "            label=f'Best α = {best_alpha:.4f}')\n",
        "\n",
        "# Formatting\n",
        "ax1.set_xscale('log')\n",
        "ax1.set_xlabel('λ', fontsize=14, fontweight='bold')\n",
        "ax1.set_ylabel('Coefficient Value', fontsize=12, fontweight='bold')\n",
        "ax1.set_title('Regularization Path', fontsize=16, fontweight='bold', pad=15)\n",
        "ax1.axhline(y=0, color='black', linestyle='-', linewidth=0.8, alpha=0.3)\n",
        "ax1.legend(loc='best', fontsize=9, framealpha=0.9)\n",
        "ax1.grid(True, alpha=0.2, linestyle='--')\n",
        "\n",
        "plt.tight_layout()\n",
        "plt.show()\n",
        "print(f\"\\nFeature names: {feature_names}\")\n",
        "print(f\"\\nInterpretation:\")\n",
        "print(f\"- At optimal α = {best_alpha:.4f}, {n_surviving_features} features survive\")\n",
        "print(f\"- This balances model complexity and generalization performance\")\n",
        "print(f\"- Using K=5 folds for cross-validation with small dataset (n={len(X_train)})\")\n"
      ],
      "metadata": {
        "id": "dkqpSL3iXRyf",
        "outputId": "82473286-059c-47a1-b634-893fe2077e30",
        "colab": {
          "base_uri": "https://localhost:8080/",
          "height": 207
        }
      },
      "execution_count": 7,
      "outputs": [
        {
          "output_type": "error",
          "ename": "NameError",
          "evalue": "name 'plt' is not defined",
          "traceback": [
            "\u001b[0;31m---------------------------------------------------------------------------\u001b[0m",
            "\u001b[0;31mNameError\u001b[0m                                 Traceback (most recent call last)",
            "\u001b[0;32m/tmp/ipython-input-2422053934.py\u001b[0m in \u001b[0;36m<cell line: 0>\u001b[0;34m()\u001b[0m\n\u001b[1;32m      1\u001b[0m \u001b[0;31m# ========== Plot 2: Regularization Path ==========\u001b[0m\u001b[0;34m\u001b[0m\u001b[0;34m\u001b[0m\u001b[0m\n\u001b[0;32m----> 2\u001b[0;31m \u001b[0mfig1\u001b[0m\u001b[0;34m,\u001b[0m \u001b[0max1\u001b[0m \u001b[0;34m=\u001b[0m \u001b[0mplt\u001b[0m\u001b[0;34m.\u001b[0m\u001b[0msubplots\u001b[0m\u001b[0;34m(\u001b[0m\u001b[0mfigsize\u001b[0m\u001b[0;34m=\u001b[0m\u001b[0;34m(\u001b[0m\u001b[0;36m10\u001b[0m\u001b[0;34m,\u001b[0m \u001b[0;36m6\u001b[0m\u001b[0;34m)\u001b[0m\u001b[0;34m)\u001b[0m\u001b[0;34m\u001b[0m\u001b[0;34m\u001b[0m\u001b[0m\n\u001b[0m\u001b[1;32m      3\u001b[0m \u001b[0mcolors\u001b[0m \u001b[0;34m=\u001b[0m \u001b[0mplt\u001b[0m\u001b[0;34m.\u001b[0m\u001b[0mcm\u001b[0m\u001b[0;34m.\u001b[0m\u001b[0mtab10\u001b[0m\u001b[0;34m(\u001b[0m\u001b[0mnp\u001b[0m\u001b[0;34m.\u001b[0m\u001b[0mlinspace\u001b[0m\u001b[0;34m(\u001b[0m\u001b[0;36m0\u001b[0m\u001b[0;34m,\u001b[0m \u001b[0;36m1\u001b[0m\u001b[0;34m,\u001b[0m \u001b[0mlen\u001b[0m\u001b[0;34m(\u001b[0m\u001b[0mfeature_names\u001b[0m\u001b[0;34m)\u001b[0m\u001b[0;34m)\u001b[0m\u001b[0;34m)\u001b[0m\u001b[0;34m\u001b[0m\u001b[0;34m\u001b[0m\u001b[0m\n\u001b[1;32m      4\u001b[0m \u001b[0;32mfor\u001b[0m \u001b[0mi\u001b[0m\u001b[0;34m,\u001b[0m \u001b[0;34m(\u001b[0m\u001b[0mfeature_name\u001b[0m\u001b[0;34m,\u001b[0m \u001b[0mcolor\u001b[0m\u001b[0;34m)\u001b[0m \u001b[0;32min\u001b[0m \u001b[0menumerate\u001b[0m\u001b[0;34m(\u001b[0m\u001b[0mzip\u001b[0m\u001b[0;34m(\u001b[0m\u001b[0mfeature_names\u001b[0m\u001b[0;34m,\u001b[0m \u001b[0mcolors\u001b[0m\u001b[0;34m)\u001b[0m\u001b[0;34m)\u001b[0m\u001b[0;34m:\u001b[0m\u001b[0;34m\u001b[0m\u001b[0;34m\u001b[0m\u001b[0m\n\u001b[1;32m      5\u001b[0m     \u001b[0max1\u001b[0m\u001b[0;34m.\u001b[0m\u001b[0mplot\u001b[0m\u001b[0;34m(\u001b[0m\u001b[0malphas\u001b[0m\u001b[0;34m,\u001b[0m \u001b[0mcoef_path\u001b[0m\u001b[0;34m[\u001b[0m\u001b[0;34m:\u001b[0m\u001b[0;34m,\u001b[0m \u001b[0mi\u001b[0m\u001b[0;34m]\u001b[0m\u001b[0;34m,\u001b[0m \u001b[0mlinewidth\u001b[0m\u001b[0;34m=\u001b[0m\u001b[0;36m2.5\u001b[0m\u001b[0;34m,\u001b[0m \u001b[0mlabel\u001b[0m\u001b[0;34m=\u001b[0m\u001b[0mfeature_name\u001b[0m\u001b[0;34m,\u001b[0m \u001b[0mcolor\u001b[0m\u001b[0;34m=\u001b[0m\u001b[0mcolor\u001b[0m\u001b[0;34m)\u001b[0m\u001b[0;34m\u001b[0m\u001b[0;34m\u001b[0m\u001b[0m\n",
            "\u001b[0;31mNameError\u001b[0m: name 'plt' is not defined"
          ]
        }
      ]
    }
  ]
}